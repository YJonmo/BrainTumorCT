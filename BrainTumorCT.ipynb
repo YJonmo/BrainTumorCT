{
  "nbformat": 4,
  "nbformat_minor": 0,
  "metadata": {
    "colab": {
      "name": "BrainTumorCT_data.ipynb",
      "provenance": [],
      "collapsed_sections": [],
      "machine_shape": "hm"
    },
    "kernelspec": {
      "name": "python3",
      "display_name": "Python 3"
    },
    "language_info": {
      "name": "python"
    },
    "accelerator": "GPU"
  },
  "cells": [
    {
      "cell_type": "markdown",
      "source": [
        "<b><center>DATASET PREPARATION</center></b>\n",
        "\n",
        "The [dataset](https://figshare.com/articles/dataset/brain_tumor_dataset/1512427) used for our brain tumor classification model is published by Jun Chen.\n",
        "\n",
        "More information about the dataset:\n",
        "<p align = 'justify'>It contains 3064 T1-weighted contrast-inhanced MRI images of patients with three kinds of brain tumor: meningioma (708 slices),  glioma (1426 slices), and pituitary tumor (930 slices).</p>\n",
        "\n",
        "---\n",
        "This data is organized in matlab data format (.mat file). Each file stores a struct containing the following fields for an image:\n",
        "\n",
        "<b>cjdata.label</b> : 1 for meningioma, 2 for glioma, 3 for pituitary tumor \n",
        "\n",
        "* <b>cjdata.PID</b> : patient ID\n",
        "* <b>cjdata.image</b> : image data\n",
        "* <b>cjdata.tumorBorder</b> : a vector storing the coordinates of discrete points on tumor border\n",
        "* <b>cjdata.tumorMask</b> : a binary image with 1s indicating tumor region\n",
        "\n",
        "<p align = 'justify'>We have also added one other category which contains MRI images of patients with no tumors to make the model predict whether the patients are having brain tumors or not to make the model cater to broader categories of classification.</p>"
      ],
      "metadata": {
        "id": "ZCSULIW-jQun"
      }
    },
    {
      "cell_type": "markdown",
      "source": [
        "###DATASET PREPARATION"
      ],
      "metadata": {
        "id": "VRhE6cHZTcaO"
      }
    },
    {
      "cell_type": "code",
      "source": [
        "from google.colab import drive\n",
        "drive.mount('/content/drive')"
      ],
      "metadata": {
        "colab": {
          "base_uri": "https://localhost:8080/"
        },
        "id": "tzCB8pInAUF1",
        "outputId": "36fcd6ec-2fc2-42c0-8888-0f6acb9e5db8"
      },
      "execution_count": 1,
      "outputs": [
        {
          "output_type": "stream",
          "name": "stdout",
          "text": [
            "Mounted at /content/drive\n"
          ]
        }
      ]
    },
    {
      "cell_type": "code",
      "source": [
        "!pip install SimpleITK\n",
        "!pip install pydicom\n",
        "!pip install timm"
      ],
      "metadata": {
        "colab": {
          "base_uri": "https://localhost:8080/"
        },
        "id": "60W8b3whUJxY",
        "outputId": "75a6384d-dd17-4dd4-a230-7f6453927f79"
      },
      "execution_count": 2,
      "outputs": [
        {
          "output_type": "stream",
          "name": "stdout",
          "text": [
            "Looking in indexes: https://pypi.org/simple, https://us-python.pkg.dev/colab-wheels/public/simple/\n",
            "Collecting SimpleITK\n",
            "  Downloading SimpleITK-2.1.1.2-cp37-cp37m-manylinux_2_12_x86_64.manylinux2010_x86_64.whl (48.4 MB)\n",
            "\u001b[K     |████████████████████████████████| 48.4 MB 1.6 MB/s \n",
            "\u001b[?25hInstalling collected packages: SimpleITK\n",
            "Successfully installed SimpleITK-2.1.1.2\n",
            "Looking in indexes: https://pypi.org/simple, https://us-python.pkg.dev/colab-wheels/public/simple/\n",
            "Collecting pydicom\n",
            "  Downloading pydicom-2.3.0-py3-none-any.whl (2.0 MB)\n",
            "\u001b[K     |████████████████████████████████| 2.0 MB 5.1 MB/s \n",
            "\u001b[?25hInstalling collected packages: pydicom\n",
            "Successfully installed pydicom-2.3.0\n"
          ]
        }
      ]
    },
    {
      "cell_type": "code",
      "source": [
        "import pydicom\n",
        "import numpy as np\n",
        "import cv2\n",
        "import os\n",
        "import matplotlib.pyplot as plt\n",
        "import glob\n",
        "from skimage import morphology\n",
        "from scipy import ndimage\n",
        "import csv\n",
        "import torchvision.transforms as T\n",
        "from PIL import Image\n",
        "import pickle\n",
        "\n",
        "import torch\n",
        "from torch.utils.data import Dataset\n",
        "#from torchvision import transforms\n",
        "\n",
        "\n",
        "import torch\n",
        "import torch.nn as nn\n",
        "import torch.nn.functional as F\n",
        "from torch.utils.data import DataLoader, Dataset\n",
        "from torchvision import transforms, models\n",
        "from torchvision.utils import make_grid\n",
        "import os\n",
        "import numpy as np\n",
        "import pandas as pd\n",
        "import pickle\n",
        "import time\n",
        "import matplotlib.pyplot as plt\n",
        "#import seaborn as sns\n",
        "from sklearn.model_selection import train_test_split\n",
        "from sklearn.metrics import confusion_matrix, classification_report\n",
        "#from data_set import BrainTumorDataset\n",
        "\n",
        "from timm.loss import LabelSmoothingCrossEntropy, SoftTargetCrossEntropy\n",
        "import seaborn as sns\n",
        "\n"
      ],
      "metadata": {
        "id": "9ULdmKXm1BrB"
      },
      "execution_count": null,
      "outputs": []
    },
    {
      "cell_type": "code",
      "source": [
        "class base_object():\n",
        "  pass\n",
        "\n",
        "globNames = base_object()\n",
        "globNames.no_classes = 2\n",
        "globNames.batch_size = 2\n",
        "globNames.image_size = 128\n",
        "globNames.model = 'resnet50' # others are resnet152 or resnet18\n",
        "globNames.epochs = 30\n",
        "globNames.train2test_ratio = .7\n",
        "#globNames.ROOT = '/content/drive/MyDrive/BrainTumorCT'\n",
        "globNames.ROOT = os.getcwd()\n",
        "globNames.data_path          = os.path.join(globNames.ROOT, 'data_CTtraining')\n",
        "globNames.processed_data_path= os.path.join(globNames.data_path, 'data_jpg')\n",
        "globNames.raw_data_path      = os.path.join(globNames.data_path, 'training')\n",
        "globNames.CSV_path_orig      = os.path.join(globNames.data_path, 'annotations.csv')\n",
        "globNames.CSV_path_aug       = os.path.join(globNames.data_path, 'annotations_aug.csv')\n",
        "globNames.pickle_path_train  = os.path.join(globNames.data_path, 'training_data.pickle')\n",
        "globNames.pickle_path_test   = os.path.join(globNames.data_path, 'testing_data.pickle')\n"
      ],
      "metadata": {
        "id": "J0jx0u_FPATq"
      },
      "execution_count": 3,
      "outputs": []
    },
    {
      "cell_type": "code",
      "source": [
        "#!rm rf '/content/drive/MyDrive/Colab Notebooks/dataset'\n",
        "if not os.path.exists(globNames.ROOT):\n",
        "  os.mkdir(globNames.ROOT)\n",
        "\n",
        "if not os.path.exists(data_path):\n",
        "  os.mkdir(data_path)\n",
        "\n",
        "if not os.path.exists(globNames.processed_data_path):\n",
        "  os.mkdir(globNames.processed_data_path)\n",
        "\n",
        "%cd /content/drive/MyDrive/BrainTumorCT\n",
        "#!gdown https://figshare.com/ndownloader/articles/1512427/versions/5\n",
        "!gdown https://drive.google.com/u/0/uc?id=1qlmzqAQr2miOIAIWjdZSy_g3dRP28b0q&export=download"
      ],
      "metadata": {
        "id": "SRTIRhV9eHCO",
        "colab": {
          "base_uri": "https://localhost:8080/"
        },
        "outputId": "517baf5f-44d2-4ff4-9f3c-d90feef5e266"
      },
      "execution_count": null,
      "outputs": [
        {
          "output_type": "stream",
          "name": "stdout",
          "text": [
            "/content/drive/MyDrive/BrainTumorCT\n",
            "Downloading...\n",
            "From: https://drive.google.com/u/0/uc?id=1qlmzqAQr2miOIAIWjdZSy_g3dRP28b0q\n",
            "To: /content/drive/MyDrive/BrainTumorCT/CTtraining.zip\n",
            "100% 1.72G/1.72G [00:16<00:00, 107MB/s] \n"
          ]
        }
      ]
    },
    {
      "cell_type": "code",
      "source": [
        "!mv CTtraining.zip '/content/drive/MyDrive/BrainTumorCT/data_CTtraining'\n",
        "%cd /content/drive/MyDrive/BrainTumorCT/data_CTtraining\n",
        "!unzip CTtraining.zip\n",
        "#!zip -r RAW_CTs data_raw"
      ],
      "metadata": {
        "id": "yz9bVdancb1l"
      },
      "execution_count": null,
      "outputs": []
    },
    {
      "cell_type": "code",
      "source": [
        "!rm CTtraining.zip"
      ],
      "metadata": {
        "id": "DpWw0we8gBvg"
      },
      "execution_count": null,
      "outputs": []
    },
    {
      "cell_type": "code",
      "source": [
        "\n",
        "def transform_to_hu(medical_image, image):\n",
        "    intercept = medical_image.RescaleIntercept\n",
        "    slope = medical_image.RescaleSlope\n",
        "    hu_image = image * slope + intercept\n",
        "    return hu_image\n",
        "\n",
        "\n",
        "def window_image(image, window_center, window_width):\n",
        "    img_min = window_center - window_width // 2\n",
        "    img_max = window_center + window_width // 2\n",
        "    window_image = image.copy()\n",
        "    window_image[window_image < img_min] = img_min\n",
        "    window_image[window_image > img_max] = img_max\n",
        "    return window_image\n",
        "\n",
        "\n",
        "def remove_noise(file_path, display=False):\n",
        "    # https://vincentblog.xyz/posts/medical-images-in-python-computed-tomography\n",
        "    medical_image = pydicom.read_file(file_path)\n",
        "    image = medical_image.pixel_array\n",
        "    hu_image = transform_to_hu(medical_image, image)\n",
        "    brain_image = window_image(hu_image, 40, 80)\n",
        "\n",
        "    segmentation = morphology.dilation(brain_image, np.ones((5, 5)))\n",
        "    labels, label_nb = ndimage.label(segmentation)\n",
        "    label_count = np.bincount(labels.ravel().astype(np.int))\n",
        "    # The size of label_count is the number of classes/segmentations found\n",
        "    # We don't use the first class since it's the background\n",
        "    label_count[0] = 0\n",
        "    # We create a mask with the class with more pixels\n",
        "    # In this case should be the brain\n",
        "    mask = labels == label_count.argmax()\n",
        "\n",
        "    # Improve the brain mask\n",
        "    mask = morphology.dilation(mask, np.ones((5, 5)))\n",
        "    mask = ndimage.morphology.binary_fill_holes(mask)\n",
        "    mask = morphology.dilation(mask, np.ones((3, 3)))\n",
        "    # Since the the pixels in the mask are zero's and one's\n",
        "    # We can multiple the original image to only keep the brain region\n",
        "    masked_image = mask * brain_image\n",
        "\n",
        "    if display:\n",
        "        plt.figure(figsize=(15, 2.5))\n",
        "        plt.subplot(141)\n",
        "        plt.imshow(brain_image)\n",
        "        plt.title('Original Image')\n",
        "        plt.axis('off')\n",
        "        plt.subplot(142)\n",
        "        plt.imshow(mask)\n",
        "        plt.title('Mask')\n",
        "        plt.axis('off')\n",
        "        plt.subplot(143)\n",
        "        plt.imshow(masked_image)\n",
        "        plt.title('Final Image')\n",
        "        plt.axis('off')\n",
        "    return masked_image\n",
        "\n",
        "\n",
        "def crop_image(image, display=False):\n",
        "    # Create a mask with the background pixels\n",
        "    mask = image == 0\n",
        "    # Find the brain area\n",
        "    coords = np.array(np.nonzero(~mask))\n",
        "    top_left = np.min(coords, axis=1)\n",
        "    bottom_right = np.max(coords, axis=1)\n",
        "\n",
        "    # Remove the background\n",
        "    croped_image = image[top_left[0]:bottom_right[0],\n",
        "\n",
        "                   top_left[1]:bottom_right[1]]\n",
        "\n",
        "    return croped_image\n",
        "\n",
        "\n",
        "def add_pad(image, new_height=512, new_width=512):\n",
        "    height, width = image.shape\n",
        "    final_image = np.zeros((new_height, new_width))\n",
        "    pad_left = int((new_width - width) / 2)\n",
        "    pad_top = int((new_height - height) / 2)\n",
        "\n",
        "    # Replace the pixels with the image's pixels\n",
        "    final_image[pad_top:pad_top + height, pad_left:pad_left + width] = image\n",
        "    return final_image\n",
        "\n",
        "\n",
        "def all_indices(value, qlist):\n",
        "    indices = []\n",
        "    idx = -1\n",
        "    while True:\n",
        "        try:\n",
        "            idx = qlist.index(value, idx + 1)\n",
        "            indices.append(idx)\n",
        "        except ValueError:\n",
        "            break\n",
        "    return indices\n",
        "\n",
        "\n",
        "def augment_data(image_orig, index_label=None):\n",
        "    Hi = np.shape(image_orig)[0]\n",
        "    Wi = np.shape(image_orig)[1]\n",
        "\n",
        "    image = Image.fromarray(image_orig)\n",
        "    transformHf = T.RandomHorizontalFlip(p=1)\n",
        "    transform_20 = T.RandomRotation(degrees=(335, 345))\n",
        "    transform20 = T.RandomRotation(degrees=(15, 25))\n",
        "    image20 = transform20(image)\n",
        "    image_20 = transform_20(image)\n",
        "    imageHf = transformHf(image)\n",
        "    imageHf20 = transform20(imageHf)\n",
        "    imageHf_20 = transform_20(imageHf)\n",
        "    return [np.array(image20).reshape(Hi, Wi), np.array(image_20).reshape(Hi, Wi),\n",
        "            np.array(imageHf).reshape(Hi, Wi), np.array(imageHf20).reshape(Hi, Wi),\n",
        "            np.array(imageHf_20).reshape(Hi, Wi)]\n",
        "\n",
        "\n",
        "def read_lables(label_path):\n",
        "    Labels = {'scan': [], 'frame': [], 'Any': [], 'IPH': [], 'IVH': [], 'SAH': [], 'SDH': []}\n",
        "    # with open('data_CTtraining/annotations.csv', newline='') as csvfile:\n",
        "    with open(label_path, newline='') as csvfile:\n",
        "        labelReader = csv.reader(csvfile, delimiter=',', quotechar='|')\n",
        "        next(labelReader)\n",
        "        scan_counter = 0\n",
        "        for row in labelReader:\n",
        "            Labels['scan'].append(row[1])\n",
        "            Labels['frame'].append(row[0])\n",
        "            Labels['Any'].append(int(row[2]))\n",
        "            Labels['IPH'].append(int(row[3]))\n",
        "            Labels['IVH'].append(int(row[4]))\n",
        "            Labels['SAH'].append(int(row[5]))\n",
        "            Labels['SDH'].append(int(row[6]))\n",
        "    return Labels\n",
        "\n",
        "\n",
        "def write_lables(label_path, cols=None):\n",
        "    fieldnames = ['slice_id', 'case_id', 'ANY', 'IPH', 'IVH', 'SAH', 'SDH']\n",
        "    with open(label_path, 'a', newline='') as csvfile:\n",
        "        writer = csv.DictWriter(csvfile, fieldnames=fieldnames)\n",
        "        if cols:\n",
        "            writer.writerow({fieldnames[0]: cols[0], fieldnames[1]: cols[1],\n",
        "                             fieldnames[2]: cols[2], fieldnames[3]: cols[3], fieldnames[4]: cols[4],\n",
        "                             fieldnames[5]: cols[5], fieldnames[6]: cols[6]})\n",
        "        else:\n",
        "            writer.writeheader()\n"
      ],
      "metadata": {
        "id": "oqHrVUMnKBDo"
      },
      "execution_count": null,
      "outputs": []
    },
    {
      "cell_type": "code",
      "source": [
        "\n",
        "if not os.path.exists(globNames.processed_data_path):\n",
        "    os.mkdir(globNames.processed_data_path)\n",
        "\n",
        "CTs = sorted(glob.glob(globNames.raw_data_path + '/*'))\n",
        "\n",
        "Labels = read_lables(globNames.CSV_path_orig)\n",
        "\n",
        "imageSizeThreshMax = 131430  # 512*512\n",
        "imageSizeThreshMin = 21111  # 0\n"
      ],
      "metadata": {
        "id": "PrpJ4fKSaCrN"
      },
      "execution_count": null,
      "outputs": []
    },
    {
      "cell_type": "code",
      "source": [
        "# !pwd\n",
        "# %cd /content/drive/MyDrive/BrainTumorCT\n",
        "# !mkdir -p data_CTtraining\n",
        "# %cd /content/drive/MyDrive/BrainTumorCT/data_CTtraining\n",
        "# !mkdir -p data_raw\n",
        "# !pwd\n",
        "# !mv -i data_raw/* data_CTtraining/data_raw/"
      ],
      "metadata": {
        "id": "PsT3-CEMa7Wp"
      },
      "execution_count": null,
      "outputs": []
    },
    {
      "cell_type": "code",
      "source": [
        "!rm globNames.CSV_path_aug\n",
        "counter = 0\n",
        "#reject_list = []\n",
        "train_data = []\n",
        "aug_labels = ['20', '_20', 'Hf', 'Hf20', 'Hf_20']\n",
        "write_lables(globNames.CSV_path_aug)\n",
        "for frame_ind in range(len(Labels['frame'])):\n",
        "    frame_path = os.path.join(globNames.raw_data_path, Labels['scan'][frame_ind], Labels['frame'][frame_ind] + '.dcm')\n",
        "    frame = remove_noise(frame_path)\n",
        "    if not((imageSizeThreshMin >= np.sum(frame != 0)) or (np.sum(frame != 0) >= imageSizeThreshMax)):\n",
        "        #reject_list.append(frame_ind)\n",
        "        jpg_name = Labels['scan'][frame_ind] + '_' + Labels['frame'][frame_ind] + '.jpg'\n",
        "        save_path = os.path.join(globNames.processed_data_path, jpg_name)\n",
        "        frame = cv2.resize(frame, (globNames.image_size*1, globNames.image_size*1), interpolation=cv2.INTER_AREA)\n",
        "        cv2.imwrite(save_path, frame)\n",
        "\n",
        "        write_lables(globNames.CSV_path_aug, [Labels['frame'][frame_ind], Labels['scan'][frame_ind], Labels['Any'][frame_ind],\n",
        "                     Labels['IPH'][frame_ind], Labels['IVH'][frame_ind], Labels['SAH'][frame_ind],\n",
        "                     Labels['SDH'][frame_ind]])\n",
        "\n",
        "        if Labels['Any'][frame_ind]:\n",
        "            # [frame20, frame_20, frameHf, frameHf20, frameHf_20] = augment_data(frame)\n",
        "            augmentedList = augment_data(frame)\n",
        "            for index, frame in enumerate(augmentedList):\n",
        "                frame_tag = Labels['frame'][frame_ind]+ aug_labels[index]\n",
        "                jpg_name = Labels['scan'][frame_ind] + '_' + frame_tag + '.jpg'\n",
        "                #train_data.append([aug_frame, 1])\n",
        "                save_path = os.path.join(globNames.processed_data_path, jpg_name)\n",
        "                cv2.imwrite(save_path, frame)\n",
        "                write_lables(globNames.CSV_path_aug, [frame_tag, Labels['scan'][frame_ind], Labels['Any'][frame_ind],\n",
        "                          Labels['IPH'][frame_ind], Labels['IVH'][frame_ind], Labels['SAH'][frame_ind],\n",
        "                          Labels['SDH'][frame_ind]])\n",
        "    # else:\n",
        "        #reject_list.append(frame_ind)\n",
        "\n"
      ],
      "metadata": {
        "id": "oSP_3uV_5xii"
      },
      "execution_count": null,
      "outputs": []
    },
    {
      "cell_type": "code",
      "source": [
        "Labels = read_lables(globNames.CSV_path_aug)\n",
        "\n",
        "train_test_data = []\n",
        "for frame_ind in range(len(Labels['frame'])):\n",
        "    frame_path = os.path.join(globNames.processed_data_path, Labels['scan'][frame_ind]+'_'+\n",
        "                              Labels['frame'][frame_ind] + '.jpg')\n",
        "    frame = cv2.imread(frame_path)\n",
        "    #frame = cv2.resize(frame, (globNames.image_size, globNames.image_size), interpolation=cv2.INTER_AREA)\n",
        "    # img2 = cv2.resize(img, (512,512))\n",
        "    label = [int(not(Labels['Any'][frame_ind])),\n",
        "                     Labels['Any'][frame_ind], \n",
        "                     Labels['IPH'][frame_ind], \n",
        "                     Labels['IVH'][frame_ind],\n",
        "                     Labels['SAH'][frame_ind], \n",
        "                     Labels['SDH'][frame_ind]]\n",
        "    ID = Labels['frame'][frame_ind]\n",
        "    train_test_data.append([ID, label, frame])\n",
        "\n",
        "\n"
      ],
      "metadata": {
        "id": "bmPvgmNdi8E3"
      },
      "execution_count": null,
      "outputs": []
    },
    {
      "cell_type": "code",
      "source": [
        "data_length = len(train_test_data)\n",
        "print(data_length)\n",
        "training_length = [0,               round(data_length*0.7)]\n",
        "testing_length =  [round(data_length*0.7),     data_length]\n",
        "print(training_length)\n",
        "print(testing_length)\n",
        "print(np.shape(train_test_data[0:100]))"
      ],
      "metadata": {
        "colab": {
          "base_uri": "https://localhost:8080/"
        },
        "id": "TWTxsg_f2JQ4",
        "outputId": "daad4040-87e0-438d-c8ee-e3532c0fed52"
      },
      "execution_count": null,
      "outputs": [
        {
          "output_type": "stream",
          "name": "stdout",
          "text": [
            "12183\n",
            "[0, 8528]\n",
            "[8528, 12183]\n",
            "(100, 3)\n"
          ]
        },
        {
          "output_type": "stream",
          "name": "stderr",
          "text": [
            "/usr/local/lib/python3.7/dist-packages/numpy/core/fromnumeric.py:1970: VisibleDeprecationWarning: Creating an ndarray from ragged nested sequences (which is a list-or-tuple of lists-or-tuples-or ndarrays with different lengths or shapes) is deprecated. If you meant to do this, you must specify 'dtype=object' when creating the ndarray.\n",
            "  result = asarray(a).shape\n"
          ]
        }
      ]
    },
    {
      "cell_type": "code",
      "source": [
        "\n",
        "pickle_out_train = open(globNames.pickle_path_train, \"wb\")\n",
        "pickle_out_test = open(globNames.pickle_path_test, \"wb\")\n",
        "pickle.dump(train_test_data[training_length[0]:training_length[1]], pickle_out_train)\n",
        "pickle.dump(train_test_data[testing_length[0]:testing_length[1]], pickle_out_test)\n",
        "pickle_out_train.close()\n",
        "pickle_out_test.close()"
      ],
      "metadata": {
        "id": "QQ7AnFMwqqxD"
      },
      "execution_count": null,
      "outputs": []
    },
    {
      "cell_type": "code",
      "source": [
        "train_data[1]"
      ],
      "metadata": {
        "id": "riSqhVdA3rJ4"
      },
      "execution_count": null,
      "outputs": []
    },
    {
      "cell_type": "code",
      "source": [
        "frame_name = os.path.basename(frame_path).split('.')[0]\n",
        "scan_name  = os.path.basename(os.path.dirname(frame_path)) \n",
        "save_path = os.path.join(scan_name, frame_name)\n",
        "print(save_path)\n",
        "print(os.path.basename(os.path.dirname(frame_path)))\n",
        "print(os.path.abspath(frame_path))"
      ],
      "metadata": {
        "colab": {
          "base_uri": "https://localhost:8080/"
        },
        "id": "kED7AcD4QF9e",
        "outputId": "e700bd6e-44e2-450f-cb25-69c28ed5d9a9"
      },
      "execution_count": null,
      "outputs": [
        {
          "output_type": "stream",
          "name": "stdout",
          "text": [
            "data_jpg/CID_1918b6d8be_ID_4340a8aae\n",
            "data_jpg\n",
            "/content/drive/MyDrive/BrainTumorCT/data_CTtraining/data_jpg/CID_1918b6d8be_ID_4340a8aae.jpg\n"
          ]
        }
      ]
    },
    {
      "cell_type": "markdown",
      "source": [
        "\n",
        ".\n",
        "\n",
        "\n",
        ".\n",
        "\n",
        "\n",
        ".\n",
        "\n",
        "\n",
        ".\n",
        "\n",
        "\n",
        ".\n",
        "Now training\n",
        "\n",
        "\n",
        ".\n",
        "\n",
        ".\n",
        "\n",
        ".\n",
        "\n",
        ".\n",
        "\n",
        ".\n",
        "\n",
        "\n",
        "\n",
        "\n",
        "\n",
        "\n"
      ],
      "metadata": {
        "id": "l6BretIwnPuA"
      }
    },
    {
      "cell_type": "code",
      "source": [
        "class BrainTumorDataset(Dataset):\n",
        "    def __init__(self, images, labels, no_classes=4, image_size=128):\n",
        "        # Images\n",
        "        self.X = images\n",
        "        # Corresponding Labels\n",
        "        self.Y = labels\n",
        "\n",
        "        # Convert original image numpy array to PIL image and then to a tensor\n",
        "        self.transform = T.Compose([T.ToPILImage(),\n",
        "                                             T.Resize((image_size, image_size)),\n",
        "                                             T.ToTensor()\n",
        "                                             ])\n",
        "        self.no_classes = no_classes\n",
        "\n",
        "    def __len__(self):\n",
        "        # Returns # of images\n",
        "        return len(self.X)\n",
        "\n",
        "    def __getitem__(self, idx):\n",
        "        # Transformations for one image of X at a time\n",
        "        # Original image as a tensor\n",
        "        img = self.transform(self.X[idx])\n",
        "        '''\n",
        "        # store the transformed images in a list\n",
        "        batch = [img, img20, img_20, imgHf, imgHf20, imgHf_20]\n",
        "        '''\n",
        "        # One Hot Encoding is used here to give the respective column of the image label 1.0 and other columns as 0.0\n",
        "        labels = torch.zeros(self.no_classes, dtype=torch.float32)\n",
        "        #labels[self.Y[idx][0]] = 1\n",
        "        #labels = labels[self.Y[idx]]\n",
        "        \n",
        "\n",
        "\n",
        "        \n",
        "        for i in range(self.no_classes):\n",
        "          labels[i] = self.Y[idx][i]\n",
        "        # labels[5] = self.Y[idx][4]        \n",
        "        # labels[4] = self.Y[idx][3]\n",
        "        # labels[3] = self.Y[idx][2]\n",
        "        # labels[2] = self.Y[idx][1]\n",
        "        # labels[1] = self.Y[idx][0]\n",
        "        # labels[0] = int(not(self.Y[idx][0]))\n",
        "        # labels[2] = int(not(self.Y[idx][1]))\n",
        "        # labels[3] = int(not(self.Y[idx][2]))\n",
        "        #labels = labels[0]\n",
        "        #b_labels = [labels, labels, labels, labels, labels, labels]\n",
        "        labels= [labels]\n",
        "        img = [img]\n",
        "        # print(np.shape(img[0]))\n",
        "        # print(labels)\n",
        "        # print('GGGGGGGGGGGGGGGGGGGGGGGGGGGGGGGGGGGGGGGGGGGGGGGGg')\n",
        "        # 8 augmented images and corresponding labels per sample will be returned\n",
        "        #return (torch.stack(b_labels), torch.stack(batch))\n",
        "        # print('h')\n",
        "        return (torch.stack(labels), torch.stack(img))"
      ],
      "metadata": {
        "id": "CncN0H44q-so"
      },
      "execution_count": 4,
      "outputs": []
    },
    {
      "cell_type": "code",
      "source": [
        "def save_model(state, is_best, filename=os.path.join(globNames.ROOT, globNames.model + '.pth.tar')):\n",
        "    torch.save(state, filename)"
      ],
      "metadata": {
        "id": "CsrigqZMnPU1"
      },
      "execution_count": 5,
      "outputs": []
    },
    {
      "cell_type": "code",
      "source": [
        "train_data = pickle.load(open(globNames.pickle_path_train, 'rb'))\n",
        "\n",
        "test_data = pickle.load(open(globNames.pickle_path_test, 'rb'))\n"
      ],
      "metadata": {
        "id": "SikGd_jspTI9"
      },
      "execution_count": 7,
      "outputs": []
    },
    {
      "cell_type": "code",
      "source": [
        "\n",
        "Xt, Yt, label_X, label_Y, IDs_X, IDs_Y= [], [], [], [], [], []\n",
        "ID, label, image = None, None, None\n",
        "\n",
        "for ID, label, image in train_data:\n",
        "    IDs_X.append(ID)\n",
        "    label_X.append(label)\n",
        "    Xt.append(image)\n",
        "\n",
        "ID, label, image = None, None, None\n",
        "for ID, label, image in test_data:\n",
        "    IDs_Y.append(ID)\n",
        "    label_Y.append(label)\n",
        "    Yt.append(image)    \n",
        "\n",
        "\n",
        "# X_train, X_test, Y_train, Y_test = train_test_split(Xt, Yt, test_size=0.2, shuffle=True)\n",
        "# X_val, X_test, Y_val, Y_test = train_test_split(X_test, Y_test, test_size=0.6, shuffle=True)\n",
        "\n",
        "# print(f\"Number of training samples: {len(X_train)}\")\n",
        "# print(f\"Number of validation samples: {len(X_val)}\")\n",
        "# print(f\"Number of testing samples: {len(X_test)}\")\n",
        "\n",
        "# Xt, Yt, labels, label, features, train_data = None, None, None, None, None, None\n",
        "\n",
        "train_set = BrainTumorDataset(Xt, label_X, globNames.no_classes)\n",
        "#val_set = BrainTumorDataset(X_val, Y_val, globNames.no_classes)\n",
        "test_set = BrainTumorDataset(Yt, label_Y, globNames.no_classes)\n",
        "\n",
        "train_loader = DataLoader(train_set, batch_size=globNames.batch_size, shuffle=True, pin_memory=True, num_workers=1)\n",
        "#val_loader = DataLoader(val_set, batch_size=globNames.batch_size, shuffle=True, pin_memory=True, num_workers=1)\n",
        "test_loader = DataLoader(test_set, batch_size=globNames.batch_size, shuffle=True, pin_memory=True, num_workers=1)"
      ],
      "metadata": {
        "id": "dQmkq2SAXWZg"
      },
      "execution_count": 8,
      "outputs": []
    },
    {
      "cell_type": "code",
      "source": [
        "device_name = \"cuda:0\" if torch.cuda.is_available() else \"cpu\"\n",
        "device = torch.device(device_name)\n",
        "\n",
        "if globNames.model == 'resnet50':\n",
        "  trainingModel = models.resnet50(pretrained=True)\n",
        "elif globNames.model == 'resnet18':\n",
        "  trainingModel = models.resnet18(pretrained=True)\n",
        "elif globNames.model == 'resnet152':\n",
        "  trainingModel = models.resnet152(pretrained=True)\n",
        "\n",
        "\n",
        "\n",
        "# Training all parameters\n",
        "for param in trainingModel.parameters():\n",
        "    param.requires_grad = True\n",
        "# Input for fully connected layer\n",
        "n_inputs = trainingModel.fc.in_features\n",
        "\n",
        "trainingModel.fc = nn.Sequential(nn.Linear(n_inputs, 2048),\n",
        "                                nn.SELU(),\n",
        "                                nn.Dropout(p=0.4),\n",
        "                                nn.Linear(2048, 2048),\n",
        "                                nn.SELU(),\n",
        "                                nn.Dropout(p=0.4),\n",
        "                                nn.Linear(2048, globNames.no_classes),\n",
        "                                nn.LogSigmoid())\n",
        "\n",
        "\n",
        "for name, child in trainingModel.named_children():\n",
        "  for name2, params in child.named_parameters():\n",
        "    params.requires_grad = True\n",
        "\n",
        "trainingModel.to(device)"
      ],
      "metadata": {
        "id": "demhN1Aanz2N"
      },
      "execution_count": null,
      "outputs": []
    },
    {
      "cell_type": "code",
      "source": [
        "#trainingModel.load_state_dict(torch.load('/content/drive/MyDrive/BrainTumorCT/bt_resnet50_bt_intermodel.pth.tar'))"
      ],
      "metadata": {
        "id": "w3LXoWotPWUc"
      },
      "execution_count": null,
      "outputs": []
    },
    {
      "cell_type": "code",
      "source": [
        "crossen_loss = nn.CrossEntropyLoss().to(device)\n",
        "sgd_opt = torch.optim.SGD(trainingModel.parameters(), momentum=0.9, lr=3e-4)\n",
        "\n",
        "# Lists to store train, test losses and accuracies\n",
        "train_losses, val_losses, train_accs, val_accs = [],[],[],[]\n",
        "\n",
        "best_prec_loss = 2"
      ],
      "metadata": {
        "id": "4yumV2O2n7gV"
      },
      "execution_count": 10,
      "outputs": []
    },
    {
      "cell_type": "code",
      "source": [
        "start_time = time.time()\n",
        "# Batch Variables\n",
        "b = None\n",
        "train_b = None\n",
        "test_b = None\n",
        "\n",
        "# Training\n",
        "for i in range(globNames.epochs):\n",
        "    # Training Correct and Validation Correct is updated to 0 during every iteration\n",
        "    train_corr = 0\n",
        "    val_corr = 0\n",
        "    # Timing Epoch: starting epoch time\n",
        "    e_start = time.time()\n",
        "    # Batch Training\n",
        "    for b, (y, X) in enumerate(train_loader):\n",
        "        # Transfer variables to the device if available\n",
        "        X, y = X.to(device), y.to(device)\n",
        "        # Forward passing image\n",
        "        #print(np.shape(X))\n",
        "        y_pred = trainingModel(X.view(-1, 3, globNames.image_size, globNames.image_size))\n",
        "        # print('HHHHHHHHHHHHHHHHHHHHHHHHHHHHHHHHHHHHHHHHHHHHHHHHHHH')\n",
        "        # print(y_pred)\n",
        "        # print(y)\n",
        "        # print('######################################################')\n",
        "        # Loss calculation\n",
        "        loss = crossen_loss(y_pred.float(), torch.argmax(y.view(-1, globNames.no_classes), dim=1).long())\n",
        "        # The argmax of the predicted tensor is assigned as our label\n",
        "        mod_pred = torch.argmax(y_pred, dim=1).data\n",
        "        # # of correctly predicted images in a batch is equal to the sum of all correctly predicted images\n",
        "        batch_corr = (mod_pred == torch.argmax(y.view(-1, globNames.no_classes), dim=1)).sum()\n",
        "        # Batch correct is added to train correct for tracking the # of correctly predicted labels of the training data\n",
        "        train_corr += batch_corr\n",
        "        # Setting SGD opt gradient to zero\n",
        "        sgd_opt.zero_grad()\n",
        "        # Back propagation based on the loss to update weights to improve learning\n",
        "        loss.backward()\n",
        "        # Performing the increment in weights by taking a step\n",
        "        sgd_opt.step()\n",
        "    # Epoch end time\n",
        "    e_end = time.time()\n",
        "    # Output: Training Metrics\n",
        "    print(f'Current Epoch: {(i + 1)} Running Batch: {(b + 1) * globNames.batch_size} \\nTraining Accuracy: '\n",
        "          f'{train_corr.item() * 100 / (globNames.batch_size * b):2.2f} %  Training Loss: {loss.item():2.6f}  '\n",
        "          f'Training Duration: {((e_end - e_start) / 60):.2f} minutes')  # 4 images per batch * 8 augmentations per image * batch length\n",
        "    # Storing the training losses and correct to plot graph between losses and predicted corrects with batch\n",
        "    train_b = b\n",
        "    train_losses.append(loss)\n",
        "    train_accs.append(train_corr)\n",
        "\n",
        "    X, y = None, None\n",
        "\n",
        "    # Validation using val_loader data\n",
        "    # The backpropagation isn't performed as it is validation data\n",
        "    with torch.no_grad():\n",
        "        for b, (y, X) in enumerate(test_loader):\n",
        "            # set label as cuda if device is cuda\n",
        "            X, y = X.to(device), y.to(device)\n",
        "\n",
        "            # forward pass image\n",
        "            y_val = trainingModel(X.view(-1, 3, globNames.image_size, globNames.image_size))\n",
        "\n",
        "            # The argmax of the predicted tensor is assigned as our label\n",
        "            mod_pred = torch.argmax(y_val, dim=1).data\n",
        "            mod_pred[0]\n",
        "            # Batch correct is added to validation correct for tracking the # of correctly predicted labels of the validation data\n",
        "            val_corr += (mod_pred == torch.argmax(y.view(-1, globNames.no_classes), dim=1)).sum()\n",
        "\n",
        "    # Loss of validation set\n",
        "    loss = crossen_loss(y_val.float(), torch.argmax(y.view(-1, globNames.no_classes), dim=1).long())\n",
        "    # Output validation metrics\n",
        "    print(\n",
        "        f'Validation Accuracy {val_corr.item() * 100 / (globNames.batch_size * b):2.2f} Validation Loss: {loss.item():2.6f}\\n')\n",
        "\n",
        "    # Saves model if the current validation loss less than the previous validation loss\n",
        "    best = loss < best_prec_loss\n",
        "    best_prec_loss = min(loss, best_prec_loss)\n",
        "    save_model({\n",
        "        'epoch': i + 1,\n",
        "        'state_dict': trainingModel.state_dict(),\n",
        "        'best_prec1': best_prec_loss,\n",
        "    }, best)\n",
        "\n",
        "    # Storing the validation losses and correct to plot graph between losses and predicted corrects with batch\n",
        "    val_b = b\n",
        "    val_losses.append(loss)\n",
        "    val_accs.append(val_corr)\n",
        "\n",
        "# Training process's end time\n",
        "end_time = time.time() - start_time\n",
        "\n",
        "# Total training duration\n",
        "print(\"\\nTraining Duration {:.2f} minutes\".format(end_time / 60))"
      ],
      "metadata": {
        "id": "8Mfvc339oAG9",
        "colab": {
          "base_uri": "https://localhost:8080/"
        },
        "outputId": "cb7b3440-1378-4f9c-8a5d-674555060910"
      },
      "execution_count": 15,
      "outputs": [
        {
          "output_type": "stream",
          "name": "stdout",
          "text": [
            "Current Epoch: 1 Running Batch: 8528 \n",
            "Training Accuracy: 75.63 %  Training Loss: 0.347694  Training Duration: 2.78 minutes\n",
            "Validation Accuracy 75.31 Validation Loss: 0.540476\n",
            "\n",
            "Current Epoch: 2 Running Batch: 8528 \n",
            "Training Accuracy: 77.41 %  Training Loss: 0.000292  Training Duration: 2.78 minutes\n",
            "Validation Accuracy 79.89 Validation Loss: 0.247053\n",
            "\n",
            "Current Epoch: 3 Running Batch: 8528 \n",
            "Training Accuracy: 90.39 %  Training Loss: 0.031090  Training Duration: 2.77 minutes\n",
            "Validation Accuracy 86.02 Validation Loss: 0.046733\n",
            "\n",
            "Current Epoch: 4 Running Batch: 8528 \n",
            "Training Accuracy: 94.68 %  Training Loss: 0.025037  Training Duration: 2.76 minutes\n",
            "Validation Accuracy 87.74 Validation Loss: 0.023668\n",
            "\n",
            "Current Epoch: 5 Running Batch: 8528 \n",
            "Training Accuracy: 96.04 %  Training Loss: 0.003629  Training Duration: 2.78 minutes\n",
            "Validation Accuracy 89.60 Validation Loss: 6.294924\n",
            "\n",
            "Current Epoch: 6 Running Batch: 8528 \n",
            "Training Accuracy: 96.87 %  Training Loss: 0.050808  Training Duration: 2.85 minutes\n",
            "Validation Accuracy 87.74 Validation Loss: 0.003117\n",
            "\n",
            "Current Epoch: 7 Running Batch: 8528 \n",
            "Training Accuracy: 97.78 %  Training Loss: 0.001190  Training Duration: 2.79 minutes\n",
            "Validation Accuracy 89.44 Validation Loss: 0.000190\n",
            "\n",
            "Current Epoch: 8 Running Batch: 8528 \n",
            "Training Accuracy: 98.52 %  Training Loss: 0.001784  Training Duration: 2.76 minutes\n",
            "Validation Accuracy 88.45 Validation Loss: 0.001164\n",
            "\n",
            "Current Epoch: 9 Running Batch: 8528 \n",
            "Training Accuracy: 98.84 %  Training Loss: 0.000390  Training Duration: 2.76 minutes\n",
            "Validation Accuracy 88.29 Validation Loss: 0.000281\n",
            "\n",
            "Current Epoch: 10 Running Batch: 8528 \n",
            "Training Accuracy: 99.17 %  Training Loss: 0.025256  Training Duration: 2.76 minutes\n",
            "Validation Accuracy 87.88 Validation Loss: 0.000201\n",
            "\n",
            "Current Epoch: 11 Running Batch: 8528 \n",
            "Training Accuracy: 99.21 %  Training Loss: 0.001552  Training Duration: 2.77 minutes\n",
            "Validation Accuracy 88.62 Validation Loss: 0.000579\n",
            "\n",
            "Current Epoch: 12 Running Batch: 8528 \n",
            "Training Accuracy: 99.30 %  Training Loss: 0.000146  Training Duration: 2.75 minutes\n",
            "Validation Accuracy 90.01 Validation Loss: 0.000067\n",
            "\n",
            "Current Epoch: 13 Running Batch: 8528 \n",
            "Training Accuracy: 99.24 %  Training Loss: 0.004874  Training Duration: 2.74 minutes\n",
            "Validation Accuracy 89.05 Validation Loss: 7.310264\n",
            "\n",
            "Current Epoch: 14 Running Batch: 8528 \n",
            "Training Accuracy: 99.45 %  Training Loss: 0.368455  Training Duration: 2.82 minutes\n",
            "Validation Accuracy 88.45 Validation Loss: 0.003803\n",
            "\n",
            "Current Epoch: 15 Running Batch: 8528 \n",
            "Training Accuracy: 99.40 %  Training Loss: 0.000047  Training Duration: 3.02 minutes\n",
            "Validation Accuracy 90.04 Validation Loss: 0.000125\n",
            "\n",
            "Current Epoch: 16 Running Batch: 8528 \n",
            "Training Accuracy: 99.51 %  Training Loss: 0.000405  Training Duration: 2.78 minutes\n",
            "Validation Accuracy 89.19 Validation Loss: 0.001552\n",
            "\n",
            "Current Epoch: 17 Running Batch: 8528 \n",
            "Training Accuracy: 99.75 %  Training Loss: 0.000082  Training Duration: 2.75 minutes\n",
            "Validation Accuracy 89.74 Validation Loss: 4.758155\n",
            "\n",
            "Current Epoch: 18 Running Batch: 8528 \n",
            "Training Accuracy: 99.60 %  Training Loss: 0.001226  Training Duration: 2.65 minutes\n",
            "Validation Accuracy 89.11 Validation Loss: 6.118827\n",
            "\n",
            "Current Epoch: 19 Running Batch: 8528 \n",
            "Training Accuracy: 99.60 %  Training Loss: 0.000200  Training Duration: 2.61 minutes\n",
            "Validation Accuracy 89.05 Validation Loss: 0.002376\n",
            "\n",
            "Current Epoch: 20 Running Batch: 8528 \n",
            "Training Accuracy: 99.75 %  Training Loss: 0.000137  Training Duration: 2.61 minutes\n",
            "Validation Accuracy 88.45 Validation Loss: 0.205889\n",
            "\n",
            "Current Epoch: 21 Running Batch: 8528 \n",
            "Training Accuracy: 99.80 %  Training Loss: 0.002353  Training Duration: 2.60 minutes\n",
            "Validation Accuracy 85.74 Validation Loss: 0.001724\n",
            "\n",
            "Current Epoch: 22 Running Batch: 8528 \n",
            "Training Accuracy: 99.77 %  Training Loss: 0.000328  Training Duration: 2.65 minutes\n",
            "Validation Accuracy 88.89 Validation Loss: 0.002411\n",
            "\n",
            "Current Epoch: 23 Running Batch: 8528 \n",
            "Training Accuracy: 99.46 %  Training Loss: 0.000724  Training Duration: 2.66 minutes\n",
            "Validation Accuracy 88.59 Validation Loss: 0.000034\n",
            "\n",
            "Current Epoch: 24 Running Batch: 8528 \n",
            "Training Accuracy: 99.78 %  Training Loss: 0.000012  Training Duration: 2.62 minutes\n",
            "Validation Accuracy 89.44 Validation Loss: 0.000018\n",
            "\n",
            "Current Epoch: 25 Running Batch: 8528 \n",
            "Training Accuracy: 99.99 %  Training Loss: 0.000030  Training Duration: 2.61 minutes\n",
            "Validation Accuracy 88.81 Validation Loss: 1.334795\n",
            "\n",
            "Current Epoch: 26 Running Batch: 8528 \n",
            "Training Accuracy: 100.02 %  Training Loss: 0.018741  Training Duration: 2.61 minutes\n",
            "Validation Accuracy 88.97 Validation Loss: 0.000021\n",
            "\n",
            "Current Epoch: 27 Running Batch: 8528 \n",
            "Training Accuracy: 99.92 %  Training Loss: 0.000009  Training Duration: 2.59 minutes\n",
            "Validation Accuracy 88.89 Validation Loss: 0.000003\n",
            "\n",
            "Current Epoch: 28 Running Batch: 8528 \n",
            "Training Accuracy: 99.87 %  Training Loss: 0.000421  Training Duration: 2.60 minutes\n",
            "Validation Accuracy 88.37 Validation Loss: 0.000004\n",
            "\n",
            "Current Epoch: 29 Running Batch: 8528 \n",
            "Training Accuracy: 99.88 %  Training Loss: 0.000024  Training Duration: 2.64 minutes\n",
            "Validation Accuracy 89.63 Validation Loss: 0.000111\n",
            "\n",
            "Current Epoch: 30 Running Batch: 8528 \n",
            "Training Accuracy: 99.93 %  Training Loss: 0.000014  Training Duration: 2.62 minutes\n",
            "Validation Accuracy 89.33 Validation Loss: 0.000025\n",
            "\n",
            "\n",
            "Training Duration 96.24 minutes\n"
          ]
        }
      ]
    },
    {
      "cell_type": "code",
      "source": [
        "torch.cuda.empty_cache()\n",
        "torch.save(trainingModel.state_dict(), os.path.join(globNames.ROOT, globNames.model + '_' +\n",
        "          str(globNames.batch_size) +'_'+ str(globNames.no_classes)+'_'+ str(globNames.epochs)+'.pt'))"
      ],
      "metadata": {
        "id": "5mQGzxkHG7Rb"
      },
      "execution_count": 35,
      "outputs": []
    },
    {
      "cell_type": "code",
      "source": [
        "#resnet_50.load_state_dict(torch.load('/content/drive/MyDrive/BrainTumorCT/bt_resnet50_bt_intermodel.pth.tar'))\n",
        "# Stats = torch.load('/content/drive/MyDrive/BrainTumorCT/bt_resnet50_bt_intermodel.pth.tar')\n",
        "# resnet_50.dict  = (Stats['state_dict'])\n",
        "#Stats['best_prec1']"
      ],
      "metadata": {
        "colab": {
          "base_uri": "https://localhost:8080/"
        },
        "id": "EFDJfe6_1Zsh",
        "outputId": "2692d879-1f42-4235-b344-e4bdb766b507"
      },
      "execution_count": 32,
      "outputs": [
        {
          "output_type": "execute_result",
          "data": {
            "text/plain": [
              "tensor(6.7949e-06, device='cuda:0')"
            ]
          },
          "metadata": {},
          "execution_count": 32
        }
      ]
    },
    {
      "cell_type": "code",
      "source": [
        "y_val = trainingModel(X.view(-1, 3, globNames.image_size, globNames.image_size))\n",
        "# The argmax of the predicted tensor is assigned as our label\n",
        "mod_pred = torch.argmax(y_val, dim=1).data\n",
        "mod_pred[0]\n",
        "# Batch correct is added to validation correct for tracking the # of correctly predicted labels of the validation data\n",
        "val_corr += (mod_pred == torch.argmax(y.view(-1, globNames.no_classes), dim=1)).sum()\n",
        "loss = crossen_loss(y_val.float(), torch.argmax(y.view(-1, globNames.no_classes), dim=1).long())\n",
        "print(\n",
        "        f'Validation Accuracy {val_corr.item() * 100 / (globNames.batch_size * b):2.2f} Validation Loss: {loss.item():2.6f}\\n')"
      ],
      "metadata": {
        "colab": {
          "base_uri": "https://localhost:8080/"
        },
        "id": "Wm0C3rLDHDo6",
        "outputId": "d878048c-1dc4-47d8-9495-713905256796"
      },
      "execution_count": 23,
      "outputs": [
        {
          "output_type": "stream",
          "name": "stdout",
          "text": [
            "Validation Accuracy 89.38 Validation Loss: 0.000069\n",
            "\n"
          ]
        }
      ]
    },
    {
      "cell_type": "code",
      "source": [
        "    print(\n",
        "        f'Validation Accuracy {val_corr.item() * 100 / (globNames.batch_size * b):2.2f} Validation Loss: {loss.item():2.6f}\\n')"
      ],
      "metadata": {
        "colab": {
          "base_uri": "https://localhost:8080/"
        },
        "id": "4rqBuaoQ2yJq",
        "outputId": "fffb6276-7635-4564-980e-7598f825df2c"
      },
      "execution_count": 21,
      "outputs": [
        {
          "output_type": "stream",
          "name": "stdout",
          "text": [
            "Validation Accuracy 89.35 Validation Loss: 0.000086\n",
            "\n"
          ]
        }
      ]
    },
    {
      "cell_type": "code",
      "source": [
        "train_losses_cpu = np.zeros(globNames.epochs, dtype=np.float32)\n",
        "val_losses_cpu = np.zeros(globNames.epochs, dtype=np.float32)\n",
        "\n",
        "for i in range(len(train_losses)):\n",
        "  train_losses_cpu[i] = train_losses[i].cpu().data.numpy()\n",
        "  val_losses_cpu[i] = val_losses[i].cpu().data.numpy()\n",
        "\n",
        "# print(train_losses_cpu)\n",
        "# print(val_losses_cpu)"
      ],
      "metadata": {
        "id": "5pT-PxakHJrc"
      },
      "execution_count": 26,
      "outputs": []
    },
    {
      "cell_type": "code",
      "source": [
        "plt.plot(train_losses_cpu, label='Training loss')\n",
        "plt.plot(val_losses_cpu, label='Validation loss')\n",
        "plt.title('Loss Metrics')\n",
        "plt.ylabel('Loss')\n",
        "plt.xlabel('Epochs')\n",
        "plt.legend()\n",
        "plt.show()"
      ],
      "metadata": {
        "colab": {
          "base_uri": "https://localhost:8080/",
          "height": 295
        },
        "id": "0TPveVg4HL1V",
        "outputId": "35622949-5352-4801-c693-bc245b6b3ad4"
      },
      "execution_count": 27,
      "outputs": [
        {
          "output_type": "display_data",
          "data": {
            "text/plain": [
              "<Figure size 432x288 with 1 Axes>"
            ],
            "image/png": "[encoded data removed]"
          },
          "metadata": {
            "needs_background": "light"
          }
        }
      ]
    },
    {
      "cell_type": "code",
      "source": [
        "train_accs_cpu = np.zeros(globNames.epochs, dtype=np.float32)\n",
        "val_accs_cpu = np.zeros(globNames.epochs, dtype=np.float32)\n",
        "\n",
        "for i in range(len(train_accs_cpu)):\n",
        "  train_accs_cpu[i] = train_accs[i].data.cpu().numpy()\n",
        "  val_accs_cpu[i] = val_accs[i].cpu().data.numpy()\n",
        "\n",
        "# print(train_accs_cpu)\n",
        "# print(val_accs_cpu)"
      ],
      "metadata": {
        "id": "Pd_PpCQGHVIo"
      },
      "execution_count": 28,
      "outputs": []
    },
    {
      "cell_type": "code",
      "source": [
        "plt.plot([t/171 for t in train_accs_cpu], label='Training accuracy')\n",
        "plt.plot([t/36 for t in val_accs_cpu], label='Validation accuracy')\n",
        "plt.title('Accuracy Metrics')\n",
        "plt.ylabel('Accuracy')\n",
        "plt.xlabel('Epochs')\n",
        "plt.legend()\n",
        "plt.show()"
      ],
      "metadata": {
        "colab": {
          "base_uri": "https://localhost:8080/",
          "height": 295
        },
        "id": "JdovOsbJHXUy",
        "outputId": "8b2a6ad3-9800-486f-fd5c-e12cbc34ff51"
      },
      "execution_count": 29,
      "outputs": [
        {
          "output_type": "display_data",
          "data": {
            "text/plain": [
              "<Figure size 432x288 with 1 Axes>"
            ],
            "image/png": "[encoded data removed]"
          },
          "metadata": {
            "needs_background": "light"
          }
        }
      ]
    },
    {
      "cell_type": "code",
      "source": [
        "train_loader, val_loader, train_set, val_set = None, None, None, None"
      ],
      "metadata": {
        "id": "IsmMROiYHaX_"
      },
      "execution_count": 30,
      "outputs": []
    },
    {
      "cell_type": "code",
      "source": [
        "# Setting model to evaluation mode\n",
        "trainingModel.eval()\n",
        "\n",
        "# No weight updates\n",
        "with torch.no_grad():\n",
        "    # some metrics storage for visualization and analysis\n",
        "    test_pred = 0\n",
        "    test_loss, test_corr, labels, pred = [],[],[],[]\n",
        "\n",
        "    # Batch wise test set evaluation\n",
        "    for (y, X) in test_loader:\n",
        "        # Use GPU if available\n",
        "        X, y = X.to(device), y.to(device)\n",
        "        print('X.shape')\n",
        "        print(X.shape)\n",
        "        print('y.shape')\n",
        "        print(y.shape)\n",
        "        \n",
        "        # Original labels\n",
        "        labels.append(torch.argmax(y.view(globNames.batch_size, globNames.no_classes), dim=1).data)\n",
        "        print('labels.shape')\n",
        "        print(labels[0].shape)\n",
        "        # Forward pass\n",
        "        y_val = trainingModel(X.view(-1, 3, globNames.image_size,globNames.image_size))\n",
        "        print('y_val.shape')\n",
        "        print(y_val.shape)\n",
        "        print('X.view(-1, 3, globNames.image_size,globNames.image_size)')\n",
        "        print(X.view(-1, 3, globNames.image_size,globNames.image_size).shape)\n",
        "        # The argmax of the predicted tensor is assigned as our label\n",
        "        pred_label = torch.argmax(y_val, dim=1).data\n",
        "        print('pred_label.shape')\n",
        "        print(pred_label.shape)\n",
        "        # Predicted label addition to the list\n",
        "        pred.append(pred_label)\n",
        "        print('pred.shape')\n",
        "        print(pred[0].shape)\n",
        "        # Compute loss\n",
        "        loss = crossen_loss(y_val.float(), torch.argmax(y.view(globNames.batch_size, globNames.no_classes), dim=1).long())\n",
        "\n",
        "        # Adding the total correct predicted per batch to overall correct predictions\n",
        "        test_pred += (pred_label== torch.argmax(y.view(globNames.batch_size, globNames.no_classes), dim=1)).sum()\n",
        "\n",
        "        # Storing correct \n",
        "        test_corr.append(test_pred)\n",
        "        test_loss.append(loss)\n",
        "        \n",
        "print(f\"Test Loss: {test_loss[-1].item():.4f}\")"
      ],
      "metadata": {
        "id": "0oWlhlAFHcwE"
      },
      "execution_count": null,
      "outputs": []
    },
    {
      "cell_type": "code",
      "source": [
        "labels = torch.stack(labels)\n",
        "pred = torch.stack(pred)"
      ],
      "metadata": {
        "id": "JyetbYsyIkhj"
      },
      "execution_count": 32,
      "outputs": []
    },
    {
      "cell_type": "code",
      "source": [
        "LABELS = ['Healthy', 'Tumor']\n",
        "conf_matrix = confusion_matrix(pred.view(-1).cpu(), labels.view(-1).cpu())\n",
        "df_cm = pd.DataFrame(conf_matrix, LABELS, LABELS)\n",
        "plt.figure(figsize = (9,6))\n",
        "sns.heatmap(df_cm, annot=True, fmt=\"d\", cmap='YlGnBu')\n",
        "plt.xlabel(\"Prediction\")\n",
        "plt.ylabel(\"Target\")\n",
        "plt.show()"
      ],
      "metadata": {
        "id": "cGu_YDjrWh5G",
        "colab": {
          "base_uri": "https://localhost:8080/",
          "height": 388
        },
        "outputId": "11e0294c-e575-430f-803f-26be5df2ccde"
      },
      "execution_count": 33,
      "outputs": [
        {
          "output_type": "display_data",
          "data": {
            "text/plain": [
              "<Figure size 648x432 with 2 Axes>"
            ],
            "image/png": "[encoded data removed]"
          },
          "metadata": {
            "needs_background": "light"
          }
        }
      ]
    }
  ]
}